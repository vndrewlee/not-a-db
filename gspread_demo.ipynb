{
 "cells": [
  {
   "cell_type": "markdown",
   "metadata": {},
   "source": [
    "# Python + Google Sheets"
   ]
  },
  {
   "cell_type": "markdown",
   "metadata": {},
   "source": [
    "See set up instructions [here](https://www.twilio.com/blog/2017/02/an-easy-way-to-read-and-write-to-a-google-spreadsheet-in-python.html)"
   ]
  },
  {
   "cell_type": "code",
   "execution_count": 1,
   "metadata": {
    "collapsed": false
   },
   "outputs": [
    {
     "ename": "ModuleNotFoundError",
     "evalue": "No module named 'pygsheets'",
     "output_type": "error",
     "traceback": [
      "\u001b[0;31m---------------------------------------------------------------------------\u001b[0m",
      "\u001b[0;31mModuleNotFoundError\u001b[0m                       Traceback (most recent call last)",
      "\u001b[0;32m<ipython-input-1-8876fbb75747>\u001b[0m in \u001b[0;36m<module>\u001b[0;34m()\u001b[0m\n\u001b[0;32m----> 1\u001b[0;31m \u001b[0;32mimport\u001b[0m \u001b[0mpygsheets\u001b[0m\u001b[0;34m\u001b[0m\u001b[0m\n\u001b[0m\u001b[1;32m      2\u001b[0m \u001b[0;34m\u001b[0m\u001b[0m\n\u001b[1;32m      3\u001b[0m \u001b[0mgc\u001b[0m \u001b[0;34m=\u001b[0m \u001b[0mpygsheets\u001b[0m\u001b[0;34m.\u001b[0m\u001b[0mauthorize\u001b[0m\u001b[0;34m(\u001b[0m\u001b[0;34m)\u001b[0m\u001b[0;34m\u001b[0m\u001b[0m\n",
      "\u001b[0;31mModuleNotFoundError\u001b[0m: No module named 'pygsheets'"
     ]
    }
   ],
   "source": [
    "import pygsheets\n",
    "\n",
    "gc = pygsheets.authorize()\n"
   ]
  },
  {
   "cell_type": "code",
   "execution_count": 54,
   "metadata": {
    "collapsed": true
   },
   "outputs": [],
   "source": [
    "# import gspread\n",
    "import \n",
    "from oauth2client.service_account import ServiceAccountCredentials"
   ]
  },
  {
   "cell_type": "markdown",
   "metadata": {},
   "source": [
    "use creds to create a client to interact with the Google Drive API"
   ]
  },
  {
   "cell_type": "code",
   "execution_count": 55,
   "metadata": {
    "collapsed": true
   },
   "outputs": [],
   "source": [
    "scope = ['https://spreadsheets.google.com/feeds']\n",
    "creds = ServiceAccountCredentials.from_json_keyfile_name('./client_secrets.json', scope)\n",
    "# client = gspread.authorize(creds)"
   ]
  },
  {
   "cell_type": "markdown",
   "metadata": {},
   "source": [
    "- Find a workbook by name and open the first sheet\n",
    "- Make sure you use the right name here."
   ]
  },
  {
   "cell_type": "code",
   "execution_count": 56,
   "metadata": {
    "collapsed": true
   },
   "outputs": [],
   "source": [
    "workbook = client.open(\"Copy of Legislators 2017\")\n",
    "\n",
    "raw_sheet = workbook.sheet1"
   ]
  },
  {
   "cell_type": "code",
   "execution_count": 57,
   "metadata": {
    "collapsed": false
   },
   "outputs": [],
   "source": [
    "gender_counts = df.gender.value_counts().to_frame()"
   ]
  },
  {
   "cell_type": "code",
   "execution_count": 18,
   "metadata": {
    "collapsed": false
   },
   "outputs": [
    {
     "data": {
      "text/plain": [
       "2"
      ]
     },
     "execution_count": 18,
     "metadata": {},
     "output_type": "execute_result"
    }
   ],
   "source": [
    "len(gender_counts)"
   ]
  },
  {
   "cell_type": "code",
   "execution_count": 21,
   "metadata": {
    "collapsed": true
   },
   "outputs": [],
   "source": [
    "rows, columns = gender_counts.shape"
   ]
  },
  {
   "cell_type": "code",
   "execution_count": 22,
   "metadata": {
    "collapsed": false
   },
   "outputs": [
    {
     "data": {
      "text/plain": [
       "541"
      ]
     },
     "execution_count": 22,
     "metadata": {},
     "output_type": "execute_result"
    }
   ],
   "source": [
    "rows"
   ]
  },
  {
   "cell_type": "code",
   "execution_count": 17,
   "metadata": {
    "collapsed": false
   },
   "outputs": [
    {
     "data": {
      "text/plain": [
       "2"
      ]
     },
     "execution_count": 17,
     "metadata": {},
     "output_type": "execute_result"
    }
   ],
   "source": [
    "gender_counts.size"
   ]
  },
  {
   "cell_type": "code",
   "execution_count": 27,
   "metadata": {
    "collapsed": false
   },
   "outputs": [],
   "source": [
    "rows, columns = gender_counts.shape"
   ]
  },
  {
   "cell_type": "code",
   "execution_count": 59,
   "metadata": {
    "collapsed": false
   },
   "outputs": [
    {
     "data": {
      "text/plain": [
       "<Worksheet 'count_by_gender' id:oa9r3fh>"
      ]
     },
     "execution_count": 59,
     "metadata": {},
     "output_type": "execute_result"
    }
   ],
   "source": [
    "rows, columns = gender_counts.shape\n",
    "\n",
    "rows = 1+rows\n",
    "\n",
    "workbook.add_worksheet('count_by_gender', rows, columns)"
   ]
  },
  {
   "cell_type": "code",
   "execution_count": 61,
   "metadata": {
    "collapsed": false
   },
   "outputs": [],
   "source": [
    "gender_sheet = workbook.worksheet('count_by_gender')"
   ]
  },
  {
   "cell_type": "code",
   "execution_count": 62,
   "metadata": {
    "collapsed": false
   },
   "outputs": [
    {
     "data": {
      "text/plain": [
       "[]"
      ]
     },
     "execution_count": 62,
     "metadata": {},
     "output_type": "execute_result"
    }
   ],
   "source": [
    "gender_sheet.get_all_values()"
   ]
  },
  {
   "cell_type": "code",
   "execution_count": null,
   "metadata": {
    "collapsed": true
   },
   "outputs": [],
   "source": [
    "pand"
   ]
  },
  {
   "cell_type": "markdown",
   "metadata": {},
   "source": [
    "Extract all of the values"
   ]
  },
  {
   "cell_type": "code",
   "execution_count": 4,
   "metadata": {
    "collapsed": false
   },
   "outputs": [],
   "source": [
    "list_of_hashes = sheet.get_all_records()"
   ]
  },
  {
   "cell_type": "markdown",
   "metadata": {},
   "source": [
    "Read list of records into a DataFrame"
   ]
  },
  {
   "cell_type": "code",
   "execution_count": 5,
   "metadata": {
    "collapsed": false
   },
   "outputs": [
    {
     "data": {
      "text/html": [
       "<div>\n",
       "<table border=\"1\" class=\"dataframe\">\n",
       "  <thead>\n",
       "    <tr style=\"text-align: right;\">\n",
       "      <th></th>\n",
       "      <th>428</th>\n",
       "      <th>457</th>\n",
       "      <th>69</th>\n",
       "    </tr>\n",
       "  </thead>\n",
       "  <tbody>\n",
       "    <tr>\n",
       "      <th>address</th>\n",
       "      <td>1130 Longworth HOB; Washington DC 20515-0604</td>\n",
       "      <td>1133 Longworth HOB; Washington DC 20515-3813</td>\n",
       "      <td>2110 Rayburn HOB; Washington DC 20515-4331</td>\n",
       "    </tr>\n",
       "    <tr>\n",
       "      <th>ballotpedia_id</th>\n",
       "      <td></td>\n",
       "      <td></td>\n",
       "      <td>John Carter</td>\n",
       "    </tr>\n",
       "    <tr>\n",
       "      <th>bioguide_id</th>\n",
       "      <td>B001297</td>\n",
       "      <td>B001296</td>\n",
       "      <td>C001051</td>\n",
       "    </tr>\n",
       "    <tr>\n",
       "      <th>birthday</th>\n",
       "      <td>2/16/1959</td>\n",
       "      <td>2/6/1977</td>\n",
       "      <td>11/6/1941</td>\n",
       "    </tr>\n",
       "    <tr>\n",
       "      <th>contact_form</th>\n",
       "      <td></td>\n",
       "      <td></td>\n",
       "      <td></td>\n",
       "    </tr>\n",
       "    <tr>\n",
       "      <th>cspan_id</th>\n",
       "      <td></td>\n",
       "      <td></td>\n",
       "      <td>1004257</td>\n",
       "    </tr>\n",
       "    <tr>\n",
       "      <th>district</th>\n",
       "      <td>4</td>\n",
       "      <td>13</td>\n",
       "      <td>31</td>\n",
       "    </tr>\n",
       "    <tr>\n",
       "      <th>facebook</th>\n",
       "      <td>repkenbuck</td>\n",
       "      <td>CongressmanBoyle</td>\n",
       "      <td>judgecarter</td>\n",
       "    </tr>\n",
       "    <tr>\n",
       "      <th>facebook_id</th>\n",
       "      <td></td>\n",
       "      <td></td>\n",
       "      <td>1287257083</td>\n",
       "    </tr>\n",
       "    <tr>\n",
       "      <th>first_name</th>\n",
       "      <td>Ken</td>\n",
       "      <td>Brendan</td>\n",
       "      <td>John</td>\n",
       "    </tr>\n",
       "    <tr>\n",
       "      <th>gender</th>\n",
       "      <td>M</td>\n",
       "      <td>M</td>\n",
       "      <td>M</td>\n",
       "    </tr>\n",
       "    <tr>\n",
       "      <th>govtrack_id</th>\n",
       "      <td>412619</td>\n",
       "      <td>412652</td>\n",
       "      <td>400068</td>\n",
       "    </tr>\n",
       "    <tr>\n",
       "      <th>icpsr_id</th>\n",
       "      <td></td>\n",
       "      <td></td>\n",
       "      <td>20356</td>\n",
       "    </tr>\n",
       "    <tr>\n",
       "      <th>last_name</th>\n",
       "      <td>Buck</td>\n",
       "      <td>Boyle</td>\n",
       "      <td>Carter</td>\n",
       "    </tr>\n",
       "    <tr>\n",
       "      <th>lis_id</th>\n",
       "      <td></td>\n",
       "      <td></td>\n",
       "      <td></td>\n",
       "    </tr>\n",
       "    <tr>\n",
       "      <th>opensecrets_id</th>\n",
       "      <td>N00030829</td>\n",
       "      <td>N00035307</td>\n",
       "      <td>N00025095</td>\n",
       "    </tr>\n",
       "    <tr>\n",
       "      <th>party</th>\n",
       "      <td>Republican</td>\n",
       "      <td>Democrat</td>\n",
       "      <td>Republican</td>\n",
       "    </tr>\n",
       "    <tr>\n",
       "      <th>phone</th>\n",
       "      <td>202-225-4676</td>\n",
       "      <td>202-225-6111</td>\n",
       "      <td>202-225-3864</td>\n",
       "    </tr>\n",
       "    <tr>\n",
       "      <th>rss_url</th>\n",
       "      <td></td>\n",
       "      <td></td>\n",
       "      <td>http://carter.house.gov/common/rss/?rss=40</td>\n",
       "    </tr>\n",
       "    <tr>\n",
       "      <th>state</th>\n",
       "      <td>CO</td>\n",
       "      <td>PA</td>\n",
       "      <td>TX</td>\n",
       "    </tr>\n",
       "    <tr>\n",
       "      <th>thomas_id</th>\n",
       "      <td>2233</td>\n",
       "      <td>2267</td>\n",
       "      <td>1752</td>\n",
       "    </tr>\n",
       "    <tr>\n",
       "      <th>twitter</th>\n",
       "      <td>RepKenBuck</td>\n",
       "      <td>RepBrendanBoyle</td>\n",
       "      <td>JudgeCarter</td>\n",
       "    </tr>\n",
       "    <tr>\n",
       "      <th>type</th>\n",
       "      <td>rep</td>\n",
       "      <td>rep</td>\n",
       "      <td>rep</td>\n",
       "    </tr>\n",
       "    <tr>\n",
       "      <th>url</th>\n",
       "      <td>https://buck.house.gov</td>\n",
       "      <td>https://boyle.house.gov</td>\n",
       "      <td>http://carter.house.gov</td>\n",
       "    </tr>\n",
       "    <tr>\n",
       "      <th>votesmart_id</th>\n",
       "      <td></td>\n",
       "      <td></td>\n",
       "      <td>49296</td>\n",
       "    </tr>\n",
       "    <tr>\n",
       "      <th>washington_post_id</th>\n",
       "      <td></td>\n",
       "      <td></td>\n",
       "      <td></td>\n",
       "    </tr>\n",
       "    <tr>\n",
       "      <th>wikipedia_id</th>\n",
       "      <td>Ken Buck</td>\n",
       "      <td>Brendan Boyle</td>\n",
       "      <td>John Carter (Texas politician)</td>\n",
       "    </tr>\n",
       "    <tr>\n",
       "      <th>youtube</th>\n",
       "      <td></td>\n",
       "      <td></td>\n",
       "      <td>repjohncarter</td>\n",
       "    </tr>\n",
       "    <tr>\n",
       "      <th>youtube_id</th>\n",
       "      <td></td>\n",
       "      <td></td>\n",
       "      <td>UC9pkaOrhPfouzkJ8oAdI-1w</td>\n",
       "    </tr>\n",
       "  </tbody>\n",
       "</table>\n",
       "</div>"
      ],
      "text/plain": [
       "                                                             428  \\\n",
       "address             1130 Longworth HOB; Washington DC 20515-0604   \n",
       "ballotpedia_id                                                     \n",
       "bioguide_id                                              B001297   \n",
       "birthday                                               2/16/1959   \n",
       "contact_form                                                       \n",
       "cspan_id                                                           \n",
       "district                                                       4   \n",
       "facebook                                              repkenbuck   \n",
       "facebook_id                                                        \n",
       "first_name                                                   Ken   \n",
       "gender                                                         M   \n",
       "govtrack_id                                               412619   \n",
       "icpsr_id                                                           \n",
       "last_name                                                   Buck   \n",
       "lis_id                                                             \n",
       "opensecrets_id                                         N00030829   \n",
       "party                                                 Republican   \n",
       "phone                                               202-225-4676   \n",
       "rss_url                                                            \n",
       "state                                                         CO   \n",
       "thomas_id                                                   2233   \n",
       "twitter                                               RepKenBuck   \n",
       "type                                                         rep   \n",
       "url                                       https://buck.house.gov   \n",
       "votesmart_id                                                       \n",
       "washington_post_id                                                 \n",
       "wikipedia_id                                            Ken Buck   \n",
       "youtube                                                            \n",
       "youtube_id                                                         \n",
       "\n",
       "                                                             457  \\\n",
       "address             1133 Longworth HOB; Washington DC 20515-3813   \n",
       "ballotpedia_id                                                     \n",
       "bioguide_id                                              B001296   \n",
       "birthday                                                2/6/1977   \n",
       "contact_form                                                       \n",
       "cspan_id                                                           \n",
       "district                                                      13   \n",
       "facebook                                        CongressmanBoyle   \n",
       "facebook_id                                                        \n",
       "first_name                                               Brendan   \n",
       "gender                                                         M   \n",
       "govtrack_id                                               412652   \n",
       "icpsr_id                                                           \n",
       "last_name                                                  Boyle   \n",
       "lis_id                                                             \n",
       "opensecrets_id                                         N00035307   \n",
       "party                                                   Democrat   \n",
       "phone                                               202-225-6111   \n",
       "rss_url                                                            \n",
       "state                                                         PA   \n",
       "thomas_id                                                   2267   \n",
       "twitter                                          RepBrendanBoyle   \n",
       "type                                                         rep   \n",
       "url                                      https://boyle.house.gov   \n",
       "votesmart_id                                                       \n",
       "washington_post_id                                                 \n",
       "wikipedia_id                                       Brendan Boyle   \n",
       "youtube                                                            \n",
       "youtube_id                                                         \n",
       "\n",
       "                                                           69   \n",
       "address             2110 Rayburn HOB; Washington DC 20515-4331  \n",
       "ballotpedia_id                                     John Carter  \n",
       "bioguide_id                                            C001051  \n",
       "birthday                                             11/6/1941  \n",
       "contact_form                                                    \n",
       "cspan_id                                               1004257  \n",
       "district                                                    31  \n",
       "facebook                                           judgecarter  \n",
       "facebook_id                                         1287257083  \n",
       "first_name                                                John  \n",
       "gender                                                       M  \n",
       "govtrack_id                                             400068  \n",
       "icpsr_id                                                 20356  \n",
       "last_name                                               Carter  \n",
       "lis_id                                                          \n",
       "opensecrets_id                                       N00025095  \n",
       "party                                               Republican  \n",
       "phone                                             202-225-3864  \n",
       "rss_url             http://carter.house.gov/common/rss/?rss=40  \n",
       "state                                                       TX  \n",
       "thomas_id                                                 1752  \n",
       "twitter                                            JudgeCarter  \n",
       "type                                                       rep  \n",
       "url                                    http://carter.house.gov  \n",
       "votesmart_id                                             49296  \n",
       "washington_post_id                                              \n",
       "wikipedia_id                    John Carter (Texas politician)  \n",
       "youtube                                          repjohncarter  \n",
       "youtube_id                            UC9pkaOrhPfouzkJ8oAdI-1w  "
      ]
     },
     "execution_count": 5,
     "metadata": {},
     "output_type": "execute_result"
    }
   ],
   "source": [
    "import pandas as pd\n",
    "\n",
    "df = pd.DataFrame(list_of_hashes)\n",
    "\n",
    "df.sample(3).T"
   ]
  },
  {
   "cell_type": "code",
   "execution_count": 6,
   "metadata": {
    "collapsed": true
   },
   "outputs": [],
   "source": [
    "% matplotlib inline"
   ]
  },
  {
   "cell_type": "code",
   "execution_count": 7,
   "metadata": {
    "collapsed": false
   },
   "outputs": [
    {
     "data": {
      "text/plain": [
       "<matplotlib.axes._subplots.AxesSubplot at 0x11007c518>"
      ]
     },
     "execution_count": 7,
     "metadata": {},
     "output_type": "execute_result"
    },
    {
     "data": {
      "image/png": "[encoded data removed]",
      "text/plain": [
       "<matplotlib.figure.Figure at 0x1100759b0>"
      ]
     },
     "metadata": {},
     "output_type": "display_data"
    }
   ],
   "source": [
    "df.gender.value_counts().plot.barh()"
   ]
  },
  {
   "cell_type": "code",
   "execution_count": 8,
   "metadata": {
    "collapsed": false
   },
   "outputs": [
    {
     "data": {
      "text/plain": [
       "<matplotlib.axes._subplots.AxesSubplot at 0x1100ae2b0>"
      ]
     },
     "execution_count": 8,
     "metadata": {},
     "output_type": "execute_result"
    },
    {
     "data": {
      "image/png": "[encoded data removed]",
      "text/plain": [
       "<matplotlib.figure.Figure at 0x1101386a0>"
      ]
     },
     "metadata": {},
     "output_type": "display_data"
    }
   ],
   "source": [
    "df.party.value_counts().plot.barh()"
   ]
  },
  {
   "cell_type": "code",
   "execution_count": 9,
   "metadata": {
    "collapsed": false
   },
   "outputs": [
    {
     "data": {
      "text/plain": [
       "<matplotlib.axes._subplots.AxesSubplot at 0x110193588>"
      ]
     },
     "execution_count": 9,
     "metadata": {},
     "output_type": "execute_result"
    },
    {
     "data": {
      "image/png": "[encoded data removed]",
      "text/plain": [
       "<matplotlib.figure.Figure at 0x1101a70b8>"
      ]
     },
     "metadata": {},
     "output_type": "display_data"
    }
   ],
   "source": [
    "df.state.value_counts().plot.barh(figsize=(3,12))"
   ]
  }
 ],
 "metadata": {
  "kernelspec": {
   "display_name": "Python 3",
   "language": "python",
   "name": "python3"
  },
  "language_info": {
   "codemirror_mode": {
    "name": "ipython",
    "version": 3
   },
   "file_extension": ".py",
   "mimetype": "text/x-python",
   "name": "python",
   "nbconvert_exporter": "python",
   "pygments_lexer": "ipython3",
   "version": "3.6.0"
  }
 },
 "nbformat": 4,
 "nbformat_minor": 2
}
